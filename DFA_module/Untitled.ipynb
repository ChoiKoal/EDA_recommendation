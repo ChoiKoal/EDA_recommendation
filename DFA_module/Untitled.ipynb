{
 "cells": [
  {
   "cell_type": "code",
   "execution_count": 8,
   "metadata": {},
   "outputs": [
    {
     "name": "stdout",
     "output_type": "stream",
     "text": [
      "Requirement already satisfied: statsmodels in /home/seunghyun/.local/lib/python3.8/site-packages (0.11.0)\r\n",
      "Requirement already satisfied: scipy>=1.0 in /home/seunghyun/anaconda3/envs/virenv/lib/python3.8/site-packages (from statsmodels) (1.4.1)\r\n",
      "Requirement already satisfied: numpy>=1.14 in /home/seunghyun/anaconda3/envs/virenv/lib/python3.8/site-packages (from statsmodels) (1.18.1)\r\n",
      "Requirement already satisfied: patsy>=0.5 in /home/seunghyun/.local/lib/python3.8/site-packages (from statsmodels) (0.5.1)\r\n",
      "Requirement already satisfied: pandas>=0.21 in /home/seunghyun/anaconda3/envs/virenv/lib/python3.8/site-packages (from statsmodels) (1.0.1)\r\n",
      "Requirement already satisfied: six in /home/seunghyun/anaconda3/envs/virenv/lib/python3.8/site-packages (from patsy>=0.5->statsmodels) (1.14.0)\r\n",
      "Requirement already satisfied: python-dateutil>=2.6.1 in /home/seunghyun/anaconda3/envs/virenv/lib/python3.8/site-packages (from pandas>=0.21->statsmodels) (2.8.1)\r\n",
      "Requirement already satisfied: pytz>=2017.2 in /home/seunghyun/anaconda3/envs/virenv/lib/python3.8/site-packages (from pandas>=0.21->statsmodels) (2019.3)\r\n"
     ]
    }
   ],
   "source": [
    "#!pip3 install statsmodels\n",
    "!python3 -m pip install statsmodels"
   ]
  },
  {
   "cell_type": "code",
   "execution_count": 11,
   "metadata": {},
   "outputs": [
    {
     "ename": "ModuleNotFoundError",
     "evalue": "No module named 'statsmodels'",
     "output_type": "error",
     "traceback": [
      "\u001b[0;31m---------------------------------------------------------------------------\u001b[0m",
      "\u001b[0;31mModuleNotFoundError\u001b[0m                       Traceback (most recent call last)",
      "\u001b[0;32m<ipython-input-11-58f3d7c0c074>\u001b[0m in \u001b[0;36m<module>\u001b[0;34m\u001b[0m\n\u001b[1;32m      1\u001b[0m \u001b[0;32mimport\u001b[0m \u001b[0mnumpy\u001b[0m \u001b[0;32mas\u001b[0m \u001b[0mnp\u001b[0m\u001b[0;34m\u001b[0m\u001b[0;34m\u001b[0m\u001b[0m\n\u001b[1;32m      2\u001b[0m \u001b[0;32mimport\u001b[0m \u001b[0mmath\u001b[0m\u001b[0;34m\u001b[0m\u001b[0;34m\u001b[0m\u001b[0m\n\u001b[0;32m----> 3\u001b[0;31m \u001b[0;32mfrom\u001b[0m \u001b[0mstatsmodels\u001b[0m\u001b[0;34m.\u001b[0m\u001b[0mtsa\u001b[0m\u001b[0;34m.\u001b[0m\u001b[0mseasonal\u001b[0m \u001b[0;32mimport\u001b[0m \u001b[0mseasonal_decompose\u001b[0m\u001b[0;34m\u001b[0m\u001b[0;34m\u001b[0m\u001b[0m\n\u001b[0m\u001b[1;32m      4\u001b[0m \u001b[0;32mfrom\u001b[0m \u001b[0mstatsmodels\u001b[0m\u001b[0;34m.\u001b[0m\u001b[0mdatasets\u001b[0m \u001b[0;32mimport\u001b[0m \u001b[0melec_equip\u001b[0m \u001b[0;32mas\u001b[0m \u001b[0mds\u001b[0m\u001b[0;34m\u001b[0m\u001b[0;34m\u001b[0m\u001b[0m\n\u001b[1;32m      5\u001b[0m \u001b[0;32mfrom\u001b[0m \u001b[0mpandas\u001b[0m \u001b[0;32mimport\u001b[0m \u001b[0mDataFrame\u001b[0m \u001b[0;32mas\u001b[0m \u001b[0mdf\u001b[0m\u001b[0;34m\u001b[0m\u001b[0;34m\u001b[0m\u001b[0m\n",
      "\u001b[0;31mModuleNotFoundError\u001b[0m: No module named 'statsmodels'"
     ]
    }
   ],
   "source": [
    "import numpy as np\n",
    "import math\n",
    "from statsmodels.tsa.seasonal import seasonal_decompose\n",
    "from statsmodels.datasets import elec_equip as ds\n",
    "from pandas import DataFrame as df\n",
    "\n",
    "class outlier_Detection():\n",
    "\n",
    "    def __init__(self, data, binUnit = 'Year', window_year = 12, window_month = 28):\n",
    "\n",
    "        self.window_year = window_year\n",
    "        self.window_month = window_month\n",
    "        self.bin_unit_year = 'Year'\n",
    "        self.bin_unit_month = 'Month'\n",
    "        self.binUnit = binUnit\n",
    "        self.data = data\n",
    "\n",
    "\n",
    "    def get_OutlierScore(self):\n",
    "\n",
    "        binUnit_temp = 'Year'\n",
    "        #binUnit_temp = self.binUnit\n",
    "\n",
    "        #data_temp = ds.load(as_pandas=True).data\n",
    "        data_temp = self.data\n",
    "\n",
    "        if binUnit_temp == self.bin_unit_year:\n",
    "            stl = seasonal_decompose(data_temp, model='additive', period = self.window_year)\n",
    "        elif binUnit_temp == self.bin_unit_month:\n",
    "            stl = seasonal_decompose(data_temp, model='additive', period = self.window_month)\n",
    "        else:\n",
    "            print(\"stl window error\")\n",
    "\n",
    "        '''\n",
    "        if binUnit == self.bin_unit_year:\n",
    "            stl = seasonal_decompose(data, model='additive', period = self.window_year)\n",
    "        elif binUnit == self.bin_unit_month:\n",
    "            stl = seasonal_decompose(data, model='additive', period = self.window_month)\n",
    "        else\n",
    "            print(\"stl window error\")\n",
    "        '''\n",
    "\n",
    "        residual = stl.resid\n",
    "        nobs = stl.nobs\n",
    "        recent_ratio = 0.8\n",
    "        recent_point = nobs*recnet_ratio\n",
    "\n",
    "        residual_mean = np.mean(residual)\n",
    "        residual_std = np.std(residual)\n",
    "        residual_norm = (residual - residual_mean)/residual_std\n",
    "\n",
    "        outlier = np.where(abs(residual_norm) > 3)\n",
    "        score = []\n",
    "\n",
    "        for i in len(outlier[0]):\n",
    "            if outlier[0][i] > recent_point:\n",
    "                score_temp = math.log(math.exp(1)*(1+(outlier[0][i]-recent_point)/(nobs-recent_point))/2)\n",
    "                score.append(score_temp)\n",
    "            else:\n",
    "                score.append(0)\n",
    "\n",
    "        o_score = sum(score)\n",
    "\n",
    "        return o_score"
   ]
  },
  {
   "cell_type": "code",
   "execution_count": null,
   "metadata": {},
   "outputs": [],
   "source": []
  }
 ],
 "metadata": {
  "kernelspec": {
   "display_name": "Python 3",
   "language": "python",
   "name": "python3"
  },
  "language_info": {
   "codemirror_mode": {
    "name": "ipython",
    "version": 3
   },
   "file_extension": ".py",
   "mimetype": "text/x-python",
   "name": "python",
   "nbconvert_exporter": "python",
   "pygments_lexer": "ipython3",
   "version": "3.6.9"
  }
 },
 "nbformat": 4,
 "nbformat_minor": 2
}
